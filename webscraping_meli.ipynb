{
 "cells": [
  {
   "cell_type": "markdown",
   "id": "5dc19812-904c-48ca-bff2-e6ed200eedd4",
   "metadata": {},
   "source": [
    "# Web Scraping"
   ]
  },
  {
   "cell_type": "code",
   "execution_count": 1,
   "id": "680e5a6a-0444-4494-a3e9-cd3bcffe37e2",
   "metadata": {},
   "outputs": [],
   "source": [
    "from bs4 import BeautifulSoup\n",
    "import requests\n",
    "import pandas as pd\n",
    "from datetime import datetime"
   ]
  },
  {
   "cell_type": "code",
   "execution_count": 2,
   "id": "d81ad968-eadf-4680-a6f9-8851050f7c35",
   "metadata": {},
   "outputs": [
    {
     "name": "stdout",
     "output_type": "stream",
     "text": [
      "Scraping page 1...\n",
      "Scraping page 2...\n",
      "Scraping page 3...\n",
      "Scraping page 4...\n",
      "Scraping page 5...\n",
      "Scraping page 6...\n",
      "Scraping page 7...\n",
      "Scraping page 8...\n",
      "Scraping page 9...\n",
      "Scraping page 10...\n"
     ]
    }
   ],
   "source": [
    "# Função para extrair os títulos dos itens\n",
    "def get_itens_title(doc):\n",
    "    title_tags = doc.find_all('a', class_='poly-component__title')\n",
    "    return [tags.text.strip() for tags in title_tags]\n",
    "\n",
    "# Função para extrair os preços dos itens\n",
    "def get_price(doc):\n",
    "    price_tags = doc.find_all('div', class_='poly-price__current')\n",
    "    prices = []\n",
    "    for tag in price_tags:\n",
    "        # Busca as partes do preço: fração e centavos\n",
    "        fraction = tag.find('span', class_='andes-money-amount__fraction')\n",
    "        cents = tag.find('span', class_='andes-money-amount__cents')\n",
    "        # Monta o preço completo caso ambas as partes existam\n",
    "        if fraction and cents:\n",
    "            prices.append(f\"{fraction.text}.{cents.text}\")\n",
    "        # Caso só exista a fração, retorna somente ela\n",
    "        elif fraction:\n",
    "            prices.append(fraction.text)\n",
    "        # Se não houver fração, considera o preço como 0.00\n",
    "        else:\n",
    "            prices.append(\"0.00\")\n",
    "    return prices\n",
    "\n",
    "# Função para carregar e processar o HTML de uma página específica\n",
    "def get_doc(url):\n",
    "    response = requests.get(url)\n",
    "\n",
    "    if response.status_code != 200:\n",
    "        raise Exception(f'Failed to load page {url}')\n",
    "    return BeautifulSoup(response.text, 'html.parser')\n",
    "\n",
    "# Função principal para raspar múltiplas páginas\n",
    "def scrape_multiple_pages(n):\n",
    "    base_url = 'https://www.mercadolivre.com.br/ofertas?container_id=MLB779362-1&page='\n",
    "    titles, prices = [], []\n",
    "    \n",
    "    for page in range(1, n + 1):\n",
    "        print(f\"Scraping page {page}...\") \n",
    "        doc = get_doc(base_url + str(page))\n",
    "\n",
    "        titles.extend(get_itens_title(doc))\n",
    "        prices.extend(get_price(doc))\n",
    "    \n",
    "        min_length = min(len(titles), len(prices))\n",
    "        titles = titles[:min_length]\n",
    "        prices = prices[:min_length]\n",
    "    \n",
    "    return pd.DataFrame({'TITLE': titles, 'PRICE': prices})\n",
    "\n",
    "df_mercado_livre = scrape_multiple_pages(10)\n",
    "\n",
    "df_mercado_livre[\"SCRAPY_DATETIME\"] = datetime.now().strftime('%Y-%m-%d %H:%M:%S')\n",
    "\n",
    "df_mercado_livre['PRICE'] = pd.to_numeric(df_mercado_livre['PRICE'].str.replace(',', '.'))"
   ]
  },
  {
   "cell_type": "code",
   "execution_count": 3,
   "id": "b48a2e36-7526-4d7c-b808-eedc1ffeafd0",
   "metadata": {},
   "outputs": [
    {
     "data": {
      "text/html": [
       "<div>\n",
       "<style scoped>\n",
       "    .dataframe tbody tr th:only-of-type {\n",
       "        vertical-align: middle;\n",
       "    }\n",
       "\n",
       "    .dataframe tbody tr th {\n",
       "        vertical-align: top;\n",
       "    }\n",
       "\n",
       "    .dataframe thead th {\n",
       "        text-align: right;\n",
       "    }\n",
       "</style>\n",
       "<table border=\"1\" class=\"dataframe\">\n",
       "  <thead>\n",
       "    <tr style=\"text-align: right;\">\n",
       "      <th></th>\n",
       "      <th>TITLE</th>\n",
       "      <th>PRICE</th>\n",
       "      <th>SCRAPY_DATETIME</th>\n",
       "    </tr>\n",
       "  </thead>\n",
       "  <tbody>\n",
       "    <tr>\n",
       "      <th>0</th>\n",
       "      <td>Creatina Monohidratada 500g Soldiers Nutrition...</td>\n",
       "      <td>64.690</td>\n",
       "      <td>2024-12-17 17:51:13</td>\n",
       "    </tr>\n",
       "    <tr>\n",
       "      <th>1</th>\n",
       "      <td>Kit 6 Pares Meias Lupo Original Cano Médio Alt...</td>\n",
       "      <td>59.300</td>\n",
       "      <td>2024-12-17 17:51:13</td>\n",
       "    </tr>\n",
       "    <tr>\n",
       "      <th>2</th>\n",
       "      <td>Tênis Nike Court Legacy Masculino</td>\n",
       "      <td>289.990</td>\n",
       "      <td>2024-12-17 17:51:13</td>\n",
       "    </tr>\n",
       "    <tr>\n",
       "      <th>3</th>\n",
       "      <td>Cortina Oxford Tecido Grosso 300x250 Sala Quarto</td>\n",
       "      <td>57.380</td>\n",
       "      <td>2024-12-17 17:51:13</td>\n",
       "    </tr>\n",
       "    <tr>\n",
       "      <th>4</th>\n",
       "      <td>Caixa De Som Partybox Aiwa Pb-06 Bluetooth 20h...</td>\n",
       "      <td>1.499</td>\n",
       "      <td>2024-12-17 17:51:13</td>\n",
       "    </tr>\n",
       "    <tr>\n",
       "      <th>...</th>\n",
       "      <td>...</td>\n",
       "      <td>...</td>\n",
       "      <td>...</td>\n",
       "    </tr>\n",
       "    <tr>\n",
       "      <th>534</th>\n",
       "      <td>Cooktop 5 Bocas Preto Com Mesa Vidro Atlas Agi...</td>\n",
       "      <td>489.900</td>\n",
       "      <td>2024-12-17 17:51:13</td>\n",
       "    </tr>\n",
       "    <tr>\n",
       "      <th>535</th>\n",
       "      <td>Relógio Feminino+ Colar Pingente Brincos Folhe...</td>\n",
       "      <td>56.920</td>\n",
       "      <td>2024-12-17 17:51:13</td>\n",
       "    </tr>\n",
       "    <tr>\n",
       "      <th>536</th>\n",
       "      <td>Pijama Macacão Menina Infantil Kigurumi De Pel...</td>\n",
       "      <td>147.770</td>\n",
       "      <td>2024-12-17 17:51:13</td>\n",
       "    </tr>\n",
       "    <tr>\n",
       "      <th>537</th>\n",
       "      <td>Smartphone Motorola Moto G54 5g 256 Gb Azul 8 ...</td>\n",
       "      <td>1.169</td>\n",
       "      <td>2024-12-17 17:51:13</td>\n",
       "    </tr>\n",
       "    <tr>\n",
       "      <th>538</th>\n",
       "      <td>Impressora Função Única Monocromática Bematech...</td>\n",
       "      <td>592.900</td>\n",
       "      <td>2024-12-17 17:51:13</td>\n",
       "    </tr>\n",
       "  </tbody>\n",
       "</table>\n",
       "<p>539 rows × 3 columns</p>\n",
       "</div>"
      ],
      "text/plain": [
       "                                                 TITLE    PRICE  \\\n",
       "0    Creatina Monohidratada 500g Soldiers Nutrition...   64.690   \n",
       "1    Kit 6 Pares Meias Lupo Original Cano Médio Alt...   59.300   \n",
       "2                    Tênis Nike Court Legacy Masculino  289.990   \n",
       "3     Cortina Oxford Tecido Grosso 300x250 Sala Quarto   57.380   \n",
       "4    Caixa De Som Partybox Aiwa Pb-06 Bluetooth 20h...    1.499   \n",
       "..                                                 ...      ...   \n",
       "534  Cooktop 5 Bocas Preto Com Mesa Vidro Atlas Agi...  489.900   \n",
       "535  Relógio Feminino+ Colar Pingente Brincos Folhe...   56.920   \n",
       "536  Pijama Macacão Menina Infantil Kigurumi De Pel...  147.770   \n",
       "537  Smartphone Motorola Moto G54 5g 256 Gb Azul 8 ...    1.169   \n",
       "538  Impressora Função Única Monocromática Bematech...  592.900   \n",
       "\n",
       "         SCRAPY_DATETIME  \n",
       "0    2024-12-17 17:51:13  \n",
       "1    2024-12-17 17:51:13  \n",
       "2    2024-12-17 17:51:13  \n",
       "3    2024-12-17 17:51:13  \n",
       "4    2024-12-17 17:51:13  \n",
       "..                   ...  \n",
       "534  2024-12-17 17:51:13  \n",
       "535  2024-12-17 17:51:13  \n",
       "536  2024-12-17 17:51:13  \n",
       "537  2024-12-17 17:51:13  \n",
       "538  2024-12-17 17:51:13  \n",
       "\n",
       "[539 rows x 3 columns]"
      ]
     },
     "execution_count": 3,
     "metadata": {},
     "output_type": "execute_result"
    }
   ],
   "source": [
    "df_mercado_livre"
   ]
  },
  {
   "cell_type": "markdown",
   "id": "faf7f09e-3738-4326-95a0-77ef3514617c",
   "metadata": {},
   "source": [
    "# Armazenando os dados no banco de dados"
   ]
  },
  {
   "cell_type": "code",
   "execution_count": 4,
   "id": "bbbab970-56cb-406e-a9d2-e686bdb37a16",
   "metadata": {},
   "outputs": [],
   "source": [
    "from sqlalchemy import create_engine\n",
    "import sqlite3"
   ]
  },
  {
   "cell_type": "code",
   "execution_count": 5,
   "id": "d7703a99-85b8-41f1-8977-ec8fc30f3787",
   "metadata": {},
   "outputs": [],
   "source": [
    "mercado_livre_schema = \"\"\"\n",
    "CREATE TABLE mercado_livre (\n",
    "    TITLE              TEXT,\n",
    "    PRICE              INTEGER,\n",
    "    SCRAPY_DATETIME    TEXT\n",
    ")\n",
    "\"\"\""
   ]
  },
  {
   "cell_type": "code",
   "execution_count": 6,
   "id": "4a02e480-34c2-4ba2-9fe3-92f7b99e89d8",
   "metadata": {},
   "outputs": [],
   "source": [
    "conn = create_engine('sqlite:///mercado_livre.sqlite', echo=False)\n",
    "conn = sqlite3.connect('mercado_livre.sqlite')"
   ]
  },
  {
   "cell_type": "code",
   "execution_count": 7,
   "id": "92031f6e-d9ca-4726-943a-6f4b8fc30bbd",
   "metadata": {},
   "outputs": [
    {
     "data": {
      "text/plain": [
       "539"
      ]
     },
     "execution_count": 7,
     "metadata": {},
     "output_type": "execute_result"
    }
   ],
   "source": [
    "df_mercado_livre.to_sql('mercado_livre', con=conn, if_exists='append', index=False)"
   ]
  },
  {
   "cell_type": "code",
   "execution_count": 8,
   "id": "ea1370aa-1cb2-40f9-820d-7a419dcbdf0e",
   "metadata": {},
   "outputs": [],
   "source": [
    "query = \"\"\"\n",
    "SELECT * FROM mercado_livre\n",
    "\"\"\"\n",
    "df_mercado_livre = pd.read_sql_query(query, conn)"
   ]
  },
  {
   "cell_type": "code",
   "execution_count": 9,
   "id": "3bf48383-8562-4717-a8c3-d2177d716ecd",
   "metadata": {},
   "outputs": [
    {
     "data": {
      "text/html": [
       "<div>\n",
       "<style scoped>\n",
       "    .dataframe tbody tr th:only-of-type {\n",
       "        vertical-align: middle;\n",
       "    }\n",
       "\n",
       "    .dataframe tbody tr th {\n",
       "        vertical-align: top;\n",
       "    }\n",
       "\n",
       "    .dataframe thead th {\n",
       "        text-align: right;\n",
       "    }\n",
       "</style>\n",
       "<table border=\"1\" class=\"dataframe\">\n",
       "  <thead>\n",
       "    <tr style=\"text-align: right;\">\n",
       "      <th></th>\n",
       "      <th>TITLE</th>\n",
       "      <th>PRICE</th>\n",
       "      <th>SCRAPY_DATETIME</th>\n",
       "    </tr>\n",
       "  </thead>\n",
       "  <tbody>\n",
       "    <tr>\n",
       "      <th>4</th>\n",
       "      <td>Caixa De Som Partybox Aiwa Pb-06 Bluetooth 20h...</td>\n",
       "      <td>1.499</td>\n",
       "      <td>2024-12-17 17:43:43</td>\n",
       "    </tr>\n",
       "    <tr>\n",
       "      <th>542</th>\n",
       "      <td>Caixa De Som Partybox Aiwa Pb-06 Bluetooth 20h...</td>\n",
       "      <td>1.499</td>\n",
       "      <td>2024-12-17 17:43:43</td>\n",
       "    </tr>\n",
       "    <tr>\n",
       "      <th>1080</th>\n",
       "      <td>Caixa De Som Partybox Aiwa Pb-06 Bluetooth 20h...</td>\n",
       "      <td>1.499</td>\n",
       "      <td>2024-12-17 17:51:13</td>\n",
       "    </tr>\n",
       "  </tbody>\n",
       "</table>\n",
       "</div>"
      ],
      "text/plain": [
       "                                                  TITLE  PRICE  \\\n",
       "4     Caixa De Som Partybox Aiwa Pb-06 Bluetooth 20h...  1.499   \n",
       "542   Caixa De Som Partybox Aiwa Pb-06 Bluetooth 20h...  1.499   \n",
       "1080  Caixa De Som Partybox Aiwa Pb-06 Bluetooth 20h...  1.499   \n",
       "\n",
       "          SCRAPY_DATETIME  \n",
       "4     2024-12-17 17:43:43  \n",
       "542   2024-12-17 17:43:43  \n",
       "1080  2024-12-17 17:51:13  "
      ]
     },
     "execution_count": 9,
     "metadata": {},
     "output_type": "execute_result"
    }
   ],
   "source": [
    "df_mercado_livre[df_mercado_livre[\"TITLE\"] == \"Caixa De Som Partybox Aiwa Pb-06 Bluetooth 20h Rgb Usb Tws\"]"
   ]
  }
 ],
 "metadata": {
  "kernelspec": {
   "display_name": "Python 3 (ipykernel)",
   "language": "python",
   "name": "python3"
  },
  "language_info": {
   "codemirror_mode": {
    "name": "ipython",
    "version": 3
   },
   "file_extension": ".py",
   "mimetype": "text/x-python",
   "name": "python",
   "nbconvert_exporter": "python",
   "pygments_lexer": "ipython3",
   "version": "3.11.7"
  }
 },
 "nbformat": 4,
 "nbformat_minor": 5
}
